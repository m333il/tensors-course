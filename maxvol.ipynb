{
  "nbformat": 4,
  "nbformat_minor": 0,
  "metadata": {
    "colab": {
      "provenance": []
    },
    "kernelspec": {
      "name": "python3",
      "display_name": "Python 3"
    },
    "language_info": {
      "name": "python"
    }
  },
  "cells": [
    {
      "cell_type": "code",
      "execution_count": 431,
      "metadata": {
        "id": "s53kJ2ebb0Kb"
      },
      "outputs": [],
      "source": [
        "import numpy as np\n",
        "import scipy"
      ]
    },
    {
      "cell_type": "code",
      "source": [
        "def maxvol(A, e=1.01, k=100):\n",
        "    '''\n",
        "    A - matrix of shape n, r. (n > r)\n",
        "    e - accuracy\n",
        "    k - amount of iterations\n",
        "    '''\n",
        "    n, r = A.shape\n",
        "    P, L, U = scipy.linalg.lu(A, p_indices=True, check_finite=False)\n",
        "    I = P.argsort()[: r]\n",
        "    Q = scipy.linalg.solve_triangular(U, A.T, trans=1, check_finite=False)\n",
        "    B = scipy.linalg.solve_triangular(L[: r, :], Q, trans=1, check_finite=False,\n",
        "                                      unit_diagonal=True, lower=True).T\n",
        "    for iter in range(k):\n",
        "        i, j = np.divmod(np.abs(B).argmax(), r)\n",
        "        if np.abs(B[i, j] <= e):\n",
        "            break\n",
        "        I[j] = i\n",
        "        bj = B[:, j]\n",
        "        bi = B[i, :].copy()\n",
        "        bi[j] -= 1\n",
        "\n",
        "        B -= np.outer(bj, bi / B[i, j])\n",
        "\n",
        "    return I, B"
      ],
      "metadata": {
        "id": "MSRksSLCb-mi"
      },
      "execution_count": 432,
      "outputs": []
    },
    {
      "cell_type": "code",
      "source": [
        "n = 100\n",
        "r = 50\n",
        "A = np.random.randn(n, r)\n",
        "e = 1.0001\n",
        "k = 500"
      ],
      "metadata": {
        "id": "OGW2I_-3cC0Z"
      },
      "execution_count": 433,
      "outputs": []
    },
    {
      "cell_type": "code",
      "source": [
        "I, B = maxvol(A, e, k)\n",
        "C = A[I, :]"
      ],
      "metadata": {
        "id": "lVdD0DeicIYJ"
      },
      "execution_count": 434,
      "outputs": []
    },
    {
      "cell_type": "code",
      "source": [
        "print(f'Det C: {np.abs(np.linalg.det(C))}')\n",
        "print(f'Max in B: {np.max(np.abs(B))}')\n",
        "print(f'Max (A - B @ C): {np.max(np.abs(A - B @ C))}')\n",
        "print(f'Selected rows: ', I)"
      ],
      "metadata": {
        "colab": {
          "base_uri": "https://localhost:8080/"
        },
        "id": "y0iwz1_XcMR8",
        "outputId": "bb078431-cbda-4def-e481-09e3aec00721"
      },
      "execution_count": 435,
      "outputs": [
        {
          "output_type": "stream",
          "name": "stdout",
          "text": [
            "Det C: 5.223406809548113e+34\n",
            "Max in B: 1.7870045559604437\n",
            "Max (A - B @ C): 8.520961713998076e-15\n",
            "Selected rows:  [74 94 80 63  3  4 25 11 36 53 40 81 96  6 78 97 14 58 33 68  1 43  7 49\n",
            " 22 88 57 10 55 77 20  5 66 73 52 82 51 37 64 76 46 31 38  2 99 50 54 28\n",
            " 29 19]\n"
          ]
        }
      ]
    },
    {
      "cell_type": "code",
      "source": [],
      "metadata": {
        "id": "FD8xi3rHsMoo"
      },
      "execution_count": null,
      "outputs": []
    }
  ]
}