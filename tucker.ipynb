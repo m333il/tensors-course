{
  "nbformat": 4,
  "nbformat_minor": 0,
  "metadata": {
    "colab": {
      "provenance": []
    },
    "kernelspec": {
      "name": "python3",
      "display_name": "Python 3"
    },
    "language_info": {
      "name": "python"
    }
  },
  "cells": [
    {
      "cell_type": "code",
      "execution_count": 1,
      "metadata": {
        "id": "uChV71KqH1CE"
      },
      "outputs": [],
      "source": [
        "import numpy as np"
      ]
    },
    {
      "cell_type": "code",
      "source": [
        "def tucker_to_tensor(core, factors):\n",
        "    fold_part = ','.join([chr(ord('a') + i) + chr(ord('A') + i) for i in range(len(core.shape))])\n",
        "    common_part = ''.join([chr(ord('A') + i) for i in range(len(core.shape))])\n",
        "    T = np.einsum(common_part + ',' + fold_part, core, *factors)\n",
        "    return T"
      ],
      "metadata": {
        "id": "EMu9z7LzH6nM"
      },
      "execution_count": 2,
      "outputs": []
    },
    {
      "cell_type": "code",
      "source": [
        "def truncated_SVD(A, delta):\n",
        "    u, s, v = np.linalg.svd(A, full_matrices=False)\n",
        "    rank = (np.abs(s) >= delta * s[0]).sum()\n",
        "    return u[:, :rank], s[:rank], v[:rank, :], rank"
      ],
      "metadata": {
        "id": "__kQwOfzMCOV"
      },
      "execution_count": 3,
      "outputs": []
    },
    {
      "cell_type": "code",
      "source": [
        "def st_HOSVD(tensor, eps=1e-15):\n",
        "    G = tensor.copy()\n",
        "    dims = list(G.shape)\n",
        "    d = len(dims)\n",
        "    S = [None for _ in range(d)]\n",
        "    singulars = [None for _ in range(d)]\n",
        "\n",
        "    for k in range(d):\n",
        "        G = G.reshape(G.shape[0], -1)\n",
        "\n",
        "        S[k], singulars[k], G, dims[k] = truncated_SVD(G, eps)\n",
        "        G = G[: dims[k], :]\n",
        "        G = G.reshape(dims[k:] + dims[:k])\n",
        "        G = np.moveaxis(G, 0, -1)\n",
        "\n",
        "    for j in range(d):\n",
        "        G = np.moveaxis(np.moveaxis(G, j, -1) * singulars[j], -1, j)\n",
        "    return G, S"
      ],
      "metadata": {
        "id": "SR9cVmrLJnCk"
      },
      "execution_count": 4,
      "outputs": []
    },
    {
      "cell_type": "code",
      "source": [
        "def sum_tuckers(core1, factors1, core2, factors2):\n",
        "    shape1 = core1.shape\n",
        "    shape2 = core2.shape\n",
        "\n",
        "    factors3 = [np.hstack((factors1[i], factors2[i])) for i in range(len(shape1))]\n",
        "\n",
        "    core3 = np.zeros(np.array(shape1) + np.array(shape2))\n",
        "\n",
        "    inds1 = (slice(0, shape1[0]),)\n",
        "    for i in range(1, len(shape1)):\n",
        "        inds1 += (slice(0, shape1[i]),)\n",
        "    inds2 = (slice(shape1[0], shape1[0] + shape2[0]),)\n",
        "    for i in range(1, len(core2.shape)):\n",
        "        inds2 += (slice(shape1[i], shape1[i] + shape2[i]),)\n",
        "\n",
        "    core3[inds1] = core1\n",
        "    core3[inds2] = core2\n",
        "\n",
        "    return core3, factors3"
      ],
      "metadata": {
        "id": "TpFA19AzJqi4"
      },
      "execution_count": 5,
      "outputs": []
    },
    {
      "cell_type": "code",
      "source": [
        "def squeeze(core, factors, eps=1e-15):\n",
        "    shape = core.shape\n",
        "    d = len(shape)\n",
        "    R = [None for _ in range(d)]\n",
        "    for i in range(d):\n",
        "        factors[i], R[i] = np.linalg.qr(factors[i], mode='reduced')\n",
        "    T = tucker_to_tensor(core, R)\n",
        "    core, new_factors = st_HOSVD(T, eps)\n",
        "    R = [factors[i] @ new_factors[i] for i in range(len(core.shape))]\n",
        "\n",
        "    return core, R"
      ],
      "metadata": {
        "id": "UZFncNHDJr55"
      },
      "execution_count": 6,
      "outputs": []
    },
    {
      "cell_type": "markdown",
      "source": [
        "# Tests"
      ],
      "metadata": {
        "id": "3MZShjJ_K024"
      }
    },
    {
      "cell_type": "code",
      "source": [
        "def f1(i, j, k):\n",
        "    return np.sin(i + j + k)"
      ],
      "metadata": {
        "id": "RiPoTWsMK5t5"
      },
      "execution_count": 7,
      "outputs": []
    },
    {
      "cell_type": "code",
      "source": [
        "T = np.fromfunction(f1, (32, 64, 128))"
      ],
      "metadata": {
        "id": "fyK51azXLKjo"
      },
      "execution_count": 8,
      "outputs": []
    },
    {
      "cell_type": "code",
      "source": [
        "G, S = st_HOSVD(T, eps=1e-13)\n",
        "print(f'Kernel shape: {G.shape}')"
      ],
      "metadata": {
        "colab": {
          "base_uri": "https://localhost:8080/"
        },
        "id": "h7oHwOkMLVAQ",
        "outputId": "c9f89eac-b5b5-4cba-b53d-4a58b2fbb9e7"
      },
      "execution_count": 9,
      "outputs": [
        {
          "output_type": "stream",
          "name": "stdout",
          "text": [
            "Kernel shape: (2, 2, 2)\n"
          ]
        }
      ]
    },
    {
      "cell_type": "code",
      "source": [
        "T_new = tucker_to_tensor(G, S)\n",
        "err = np.linalg.norm(T_new - T) / np.linalg.norm(T)\n",
        "print(f'Relative error: {err}')"
      ],
      "metadata": {
        "colab": {
          "base_uri": "https://localhost:8080/"
        },
        "id": "OdvSoy00LhOn",
        "outputId": "21700894-5058-4727-94d7-c2f0a8e30ed5"
      },
      "execution_count": 10,
      "outputs": [
        {
          "output_type": "stream",
          "name": "stdout",
          "text": [
            "Relative error: 3.956674474255315e-15\n"
          ]
        }
      ]
    },
    {
      "cell_type": "code",
      "source": [],
      "metadata": {
        "id": "WbBQM_rSKV1i"
      },
      "execution_count": 10,
      "outputs": []
    },
    {
      "cell_type": "code",
      "source": [
        "def f2(i, j, k):\n",
        "    return np.cos(i + j + k)"
      ],
      "metadata": {
        "id": "ZMgl5mkPL4jc"
      },
      "execution_count": 11,
      "outputs": []
    },
    {
      "cell_type": "code",
      "source": [
        "def f3(i, j, k):\n",
        "    return f1(i, j, k) + f2(i, j, k)"
      ],
      "metadata": {
        "id": "NMiAj9GuNPHa"
      },
      "execution_count": 12,
      "outputs": []
    },
    {
      "cell_type": "code",
      "source": [
        "shape = (100, 100, 100)\n",
        "T1 = np.fromfunction(f1, shape)\n",
        "T2 = np.fromfunction(f2, shape)\n",
        "T3 = np.fromfunction(f3, shape)"
      ],
      "metadata": {
        "id": "_v0yPacpL4wx"
      },
      "execution_count": 13,
      "outputs": []
    },
    {
      "cell_type": "code",
      "source": [
        "eps = 1e-13"
      ],
      "metadata": {
        "id": "jfqCId5_NfMO"
      },
      "execution_count": 14,
      "outputs": []
    },
    {
      "cell_type": "code",
      "source": [
        "G1, S1 = st_HOSVD(T1, eps)\n",
        "G2, S2 = st_HOSVD(T2, eps)\n",
        "print(f'First tensor kernel shape:  {G1.shape}')\n",
        "print(f'Second tensor kernel shape: {G2.shape}')"
      ],
      "metadata": {
        "colab": {
          "base_uri": "https://localhost:8080/"
        },
        "id": "JF_gEdY8NKEn",
        "outputId": "bc174dcb-9696-4430-cc59-403baa9440e9"
      },
      "execution_count": 15,
      "outputs": [
        {
          "output_type": "stream",
          "name": "stdout",
          "text": [
            "First tensor kernel shape:  (2, 2, 2)\n",
            "Second tensor kernel shape: (2, 2, 2)\n"
          ]
        }
      ]
    },
    {
      "cell_type": "code",
      "source": [
        "G3, S3 = sum_tuckers(G1, S1, G2, S2)\n",
        "print(f'Sum of tensors kernel shape: {G3.shape}')"
      ],
      "metadata": {
        "colab": {
          "base_uri": "https://localhost:8080/"
        },
        "id": "47sP60X7NKJo",
        "outputId": "248095af-3674-4621-a9e8-eb8fb776f9f2"
      },
      "execution_count": 16,
      "outputs": [
        {
          "output_type": "stream",
          "name": "stdout",
          "text": [
            "Sum of tensors kernel shape: (4, 4, 4)\n"
          ]
        }
      ]
    },
    {
      "cell_type": "code",
      "source": [
        "G4, S4 = squeeze(G3, S3, eps)\n",
        "print(f'Kernel shape after squeeze: {G4.shape}')"
      ],
      "metadata": {
        "colab": {
          "base_uri": "https://localhost:8080/"
        },
        "id": "mqvR3pXTOC4s",
        "outputId": "661868e2-7964-4757-8a3e-6a4493103e3d"
      },
      "execution_count": 17,
      "outputs": [
        {
          "output_type": "stream",
          "name": "stdout",
          "text": [
            "Kernel shape after squeeze: (2, 2, 2)\n"
          ]
        }
      ]
    },
    {
      "cell_type": "code",
      "source": [
        "T_res = tucker_to_tensor(G4, S4)\n",
        "err = np.linalg.norm(T3 - T_res) / np.linalg.norm(T3)\n",
        "print(f'Relative error: {err}')"
      ],
      "metadata": {
        "colab": {
          "base_uri": "https://localhost:8080/"
        },
        "id": "9isOZuccOfzh",
        "outputId": "6921607f-7619-46dc-85e9-a7b07307659b"
      },
      "execution_count": 18,
      "outputs": [
        {
          "output_type": "stream",
          "name": "stdout",
          "text": [
            "Relative error: 3.3820190412907313e-15\n"
          ]
        }
      ]
    },
    {
      "cell_type": "code",
      "source": [],
      "metadata": {
        "id": "XW7YaTO3axP8"
      },
      "execution_count": 517,
      "outputs": []
    }
  ]
}