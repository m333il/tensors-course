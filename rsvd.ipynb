{
  "nbformat": 4,
  "nbformat_minor": 0,
  "metadata": {
    "colab": {
      "provenance": []
    },
    "kernelspec": {
      "name": "python3",
      "display_name": "Python 3"
    },
    "language_info": {
      "name": "python"
    }
  },
  "cells": [
    {
      "cell_type": "code",
      "execution_count": 1,
      "metadata": {
        "id": "t3BEoqG88P_7"
      },
      "outputs": [],
      "source": [
        "import numpy as np\n",
        "import scipy\n",
        "from matplotlib import pyplot as plt\n",
        "import time"
      ]
    },
    {
      "cell_type": "code",
      "source": [
        "def rsvd(A, k):\n",
        "    m, n = A.shape\n",
        "    omega = np.random.randn(n, k)\n",
        "    Y = A @ omega\n",
        "    Q, R = scipy.linalg.qr(Y, check_finite=False, mode='economic')\n",
        "    B = Q.conj().T @ A\n",
        "    Uhat, Sigma, V = scipy.linalg.svd(B, full_matrices=False, check_finite=False)\n",
        "    U = Q @ Uhat\n",
        "    return U, Sigma, V"
      ],
      "metadata": {
        "id": "8F6Mcgic8Trv"
      },
      "execution_count": 2,
      "outputs": []
    },
    {
      "cell_type": "code",
      "source": [
        "def A(i, j):\n",
        "    return 1.0/(i+j+1)"
      ],
      "metadata": {
        "id": "C5pCVk848YAg"
      },
      "execution_count": 3,
      "outputs": []
    },
    {
      "cell_type": "code",
      "source": [
        "M = 1500\n",
        "N = 1024\n",
        "x = np.linspace(1,N,N)\n",
        "r = 20\n",
        "Ma=np.fromfunction(A, [M, N])"
      ],
      "metadata": {
        "id": "BSV4R9bA8Zep"
      },
      "execution_count": 4,
      "outputs": []
    },
    {
      "cell_type": "code",
      "source": [
        "start = time.time()\n",
        "U, s, V = np.linalg.svd(Ma)\n",
        "Ut = U[ :, : r]\n",
        "st = s[ : r]\n",
        "Vt = V[ : r, :]\n",
        "print(f'Classical:\\nerr = {np.linalg.norm(Ma - Ut @ np.diag(st) @ Vt)}')\n",
        "print(f'time = {time.time() - start} sec')"
      ],
      "metadata": {
        "colab": {
          "base_uri": "https://localhost:8080/"
        },
        "id": "hUa5a2LF8mNw",
        "outputId": "c62c26c1-8412-4f0d-ad4f-ee64f25a9bee"
      },
      "execution_count": 6,
      "outputs": [
        {
          "output_type": "stream",
          "name": "stdout",
          "text": [
            "Classical:\n",
            "err = 9.391032008644887e-11\n",
            "time = 1.99263596534729 sec\n"
          ]
        }
      ]
    },
    {
      "cell_type": "code",
      "source": [
        "start = time.time()\n",
        "Ur, sr, Vr = rsvd(Ma, k=r)\n",
        "print(f'Randomized:\\nerr = {np.linalg.norm(Ma - Ur @ np.diag(sr) @ Vr)}')\n",
        "print(f'time = {time.time() - start} sec')"
      ],
      "metadata": {
        "colab": {
          "base_uri": "https://localhost:8080/"
        },
        "id": "bh23jz8l8cS6",
        "outputId": "79c9feab-6225-4422-bcbe-1dd138220f76"
      },
      "execution_count": 7,
      "outputs": [
        {
          "output_type": "stream",
          "name": "stdout",
          "text": [
            "Randomized:\n",
            "err = 2.8375053596674266e-10\n",
            "time = 0.04209613800048828 sec\n"
          ]
        }
      ]
    },
    {
      "cell_type": "code",
      "source": [
        "def test_classic(A, rank):\n",
        "    start = time.time()\n",
        "    U, s, V = np.linalg.svd(A)\n",
        "    t = time.time() - start\n",
        "    Ut = U[ :, : rank]\n",
        "    st = s[ : rank]\n",
        "    Vt = V[ : rank, :]\n",
        "    err = np.linalg.norm(Ma - Ut @ np.diag(st) @ Vt)\n",
        "    return err, t"
      ],
      "metadata": {
        "id": "OhbwHJi19m0G"
      },
      "execution_count": 9,
      "outputs": []
    },
    {
      "cell_type": "code",
      "source": [
        "def test_random(A, rank):\n",
        "    start = time.time()\n",
        "    Ur, sr, Vr = rsvd(A, k=rank)\n",
        "    t = time.time() - start\n",
        "    err = np.linalg.norm(Ma - Ur @ np.diag(sr) @ Vr)\n",
        "    return err, t"
      ],
      "metadata": {
        "id": "FXQaqIUb98pl"
      },
      "execution_count": 10,
      "outputs": []
    },
    {
      "cell_type": "code",
      "source": [
        "errs_classic = []\n",
        "errs_random = []\n",
        "time_classic = []\n",
        "time_random = []\n",
        "for i in range(1, 21):\n",
        "    err1, t1 = test_classic(Ma, i)\n",
        "    err2, t2 = test_random(Ma, i)\n",
        "    errs_classic.append(err1)\n",
        "    errs_random.append(err2)\n",
        "    time_classic.append(t1)\n",
        "    time_random.append(t2)"
      ],
      "metadata": {
        "id": "_8rbhgrD8eSO"
      },
      "execution_count": 12,
      "outputs": []
    },
    {
      "cell_type": "code",
      "source": [
        "plt.plot(range(1, 21), errs_classic, label='Classic SVD')\n",
        "plt.plot(range(1, 21), errs_random, label='RSVD')\n",
        "plt.yscale('log')\n",
        "plt.legend()"
      ],
      "metadata": {
        "colab": {
          "base_uri": "https://localhost:8080/",
          "height": 447
        },
        "id": "g0KW_x2i-kth",
        "outputId": "84b72eb0-64e0-462d-86b1-2c5e1a3c049c"
      },
      "execution_count": 16,
      "outputs": [
        {
          "output_type": "execute_result",
          "data": {
            "text/plain": [
              "<matplotlib.legend.Legend at 0x783b07bf7700>"
            ]
          },
          "metadata": {},
          "execution_count": 16
        },
        {
          "output_type": "display_data",
          "data": {
            "text/plain": [
              "<Figure size 640x480 with 1 Axes>"
            ],
            "image/png": "[encoded data removed]"
          },
          "metadata": {}
        }
      ]
    },
    {
      "cell_type": "code",
      "source": [],
      "metadata": {
        "id": "uSPUAKFL-0GK"
      },
      "execution_count": null,
      "outputs": []
    }
  ]
}