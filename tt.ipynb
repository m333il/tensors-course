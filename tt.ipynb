{
  "nbformat": 4,
  "nbformat_minor": 0,
  "metadata": {
    "colab": {
      "provenance": []
    },
    "kernelspec": {
      "name": "python3",
      "display_name": "Python 3"
    },
    "language_info": {
      "name": "python"
    }
  },
  "cells": [
    {
      "cell_type": "code",
      "execution_count": 1,
      "metadata": {
        "id": "CevRPc3PH_Ql"
      },
      "outputs": [],
      "source": [
        "import numpy as np"
      ]
    },
    {
      "cell_type": "code",
      "source": [
        "def tt_to_tensor(factors):\n",
        "    n = len(factors)\n",
        "    s = ','.join([chr(ord('A') + i - 1) + chr(ord('a') + i) + chr(ord('A') + i) for i in range(1, n - 1)])\n",
        "    s = 'aA,' + s + ',' + chr(ord('A') + n - 2) + chr(ord('a') + n - 1)\n",
        "    T = np.einsum(s, *factors)\n",
        "    return T"
      ],
      "metadata": {
        "id": "PvKuH5WIINo4"
      },
      "execution_count": 2,
      "outputs": []
    },
    {
      "cell_type": "code",
      "source": [
        "def truncated_svd(A, delta):\n",
        "    u, s, v = np.linalg.svd(A, full_matrices=False)\n",
        "    rank = len(s) - np.argmax(np.cumsum(s[:: -1]**2) > delta * s[0])\n",
        "    return u[:, :rank], s[:rank], v[:rank, :], rank"
      ],
      "metadata": {
        "id": "QKLmfFThI0-2"
      },
      "execution_count": 3,
      "outputs": []
    },
    {
      "cell_type": "code",
      "source": [
        "def ttsvd(T, eps=1e-15):\n",
        "    dims = list(T.shape)\n",
        "    d = len(dims)\n",
        "    S = [None for _ in range(d)]\n",
        "    G = T.copy()\n",
        "    rank = [1 for _ in range(d + 1)]\n",
        "\n",
        "    for i in range(d - 1):\n",
        "        G = np.reshape(G, (dims[i] * rank[i], -1))\n",
        "        u, s, G, rank[i + 1] = truncated_svd(G, eps)\n",
        "        if i == 0:\n",
        "            S[i] = u\n",
        "        else:\n",
        "            S[i] = u.reshape(rank[i], dims[i], rank[i + 1])\n",
        "        G = G * np.expand_dims(s, axis=1)\n",
        "\n",
        "    S[-1] = G\n",
        "\n",
        "    return S"
      ],
      "metadata": {
        "id": "P8k2Tb2UNs7m"
      },
      "execution_count": 4,
      "outputs": []
    },
    {
      "cell_type": "code",
      "source": [
        "def tt_sum(S1, S2):\n",
        "    S3 = [None for _ in range(len(S1))]\n",
        "    S3[0] = np.hstack((S1[0], S2[0]))\n",
        "\n",
        "    for i in range(1, len(S1) - 1):\n",
        "        x1, y1, z1 = S1[i].shape\n",
        "        x2, y2, z2 = S2[i].shape\n",
        "\n",
        "        S3[i] = np.zeros((x1 + x2, y1, z1 + z2))\n",
        "        S3[i][: x1, : , : z1] = S1[i]\n",
        "        S3[i][x1 :, : , z1 :] = S2[i]\n",
        "\n",
        "    S3[-1] = np.vstack((S1[-1], S2[-1]))\n",
        "    return S3"
      ],
      "metadata": {
        "id": "muEI0ziuIZWE"
      },
      "execution_count": 5,
      "outputs": []
    },
    {
      "cell_type": "code",
      "source": [
        "def squeeze(G, eps=1e-15):\n",
        "    Q, R = np.linalg.qr(G[0], mode='reduced')\n",
        "    G[0] = Q\n",
        "    for i in range(1, len(G) - 1):\n",
        "        G[i] = np.einsum('mk,krt->mrt', R, G[i])\n",
        "        x, y, z = G[i].shape\n",
        "        Q, R = np.linalg.qr(G[i].reshape(-1, z), mode='reduced')\n",
        "        G[i] = Q.reshape(x, y, -1)\n",
        "\n",
        "    u, s, G[-1], rank = truncated_svd(R @ G[-1], eps)\n",
        "    u = u * np.expand_dims(s, axis=0)\n",
        "    for i in range(len(G) - 2, 0, -1):\n",
        "        G[i] = np.einsum('mrt,tk->mrk', G[i], u)\n",
        "        x, n, r = G[i].shape\n",
        "        G[i] = G[i].reshape(-1, n * rank)\n",
        "        u, s, G[i], rank = truncated_svd(G[i], eps)\n",
        "        G[i] = G[i].reshape(-1, n, r)\n",
        "        u = u * np.expand_dims(s, axis=0)\n",
        "    G[0] = G[0] @ u\n",
        "    return G"
      ],
      "metadata": {
        "id": "ivhRfvvqIcDC"
      },
      "execution_count": 6,
      "outputs": []
    },
    {
      "cell_type": "markdown",
      "source": [
        "# Tests"
      ],
      "metadata": {
        "id": "_GEZuz1xGq0j"
      }
    },
    {
      "cell_type": "code",
      "source": [
        "def generate_train(dims, ranks):\n",
        "    train = [None for _ in range(len(ranks) + 1)]\n",
        "    train[0] = np.random.normal(size=(dims[0], ranks[0]))\n",
        "    for i in range(1, len(ranks)):\n",
        "        train[i] = np.random.normal(size=(ranks[i - 1], dims[i], ranks[i]))\n",
        "    train[-1] = np.random.normal(size=(ranks[-1], dims[-1]))\n",
        "    return train"
      ],
      "metadata": {
        "id": "EnC9wzYkIbdy"
      },
      "execution_count": 7,
      "outputs": []
    },
    {
      "cell_type": "code",
      "source": [
        "dims = [4, 8, 16, 32, 54]\n",
        "ranks = [3, 3, 4, 2]\n",
        "train = generate_train(dims, ranks)"
      ],
      "metadata": {
        "id": "JMfmAIZYoZsn"
      },
      "execution_count": 8,
      "outputs": []
    },
    {
      "cell_type": "code",
      "source": [
        "T = tt_to_tensor(train)\n",
        "train_new = ttsvd(T)\n",
        "T_new = tt_to_tensor(train_new)\n",
        "err = np.linalg.norm(T_new - T) / np.linalg.norm(T)\n",
        "\n",
        "print(f'Train ranks: {[train_new[i].shape[-1] for i in range(len(train_new) - 1)]}')\n",
        "print(f'Relative error: {err}')"
      ],
      "metadata": {
        "id": "rpz2jP-RG1YB",
        "colab": {
          "base_uri": "https://localhost:8080/"
        },
        "outputId": "6558b4b4-9959-42f0-f908-c5d302dbbc80"
      },
      "execution_count": 9,
      "outputs": [
        {
          "output_type": "stream",
          "name": "stdout",
          "text": [
            "Train ranks: [3, 3, 4, 2]\n",
            "Relative error: 3.325554048700361e-15\n"
          ]
        }
      ]
    },
    {
      "cell_type": "code",
      "source": [],
      "metadata": {
        "id": "wYFTxwUUJLZV"
      },
      "execution_count": 9,
      "outputs": []
    },
    {
      "cell_type": "code",
      "source": [
        "def f(i, j, k, l, s):\n",
        "    return 1 / (i + j + k + l + s + 1)"
      ],
      "metadata": {
        "id": "yhoQD29FJLdK"
      },
      "execution_count": 19,
      "outputs": []
    },
    {
      "cell_type": "code",
      "source": [
        "T = np.fromfunction(f, (16, 16, 16, 16, 16))"
      ],
      "metadata": {
        "id": "2LlPHs-DJYS7"
      },
      "execution_count": 20,
      "outputs": []
    },
    {
      "cell_type": "code",
      "source": [
        "tt1 = ttsvd(T, eps=1e-4)\n",
        "print(f'Train ranks, eps = {1e-4}: {[tt1[i].shape[-1] for i in range(len(tt1) - 1)]}')\n",
        "\n",
        "tt2 = ttsvd(T, eps=1e-9)\n",
        "print(f'Train ranks, eps = {1e-9}: {[tt2[i].shape[-1] for i in range(len(tt2) - 1)]}')"
      ],
      "metadata": {
        "colab": {
          "base_uri": "https://localhost:8080/"
        },
        "id": "3zGEzx7JJfom",
        "outputId": "4dcafe8c-3e57-4a78-c1a0-a68b8bafe75a"
      },
      "execution_count": 22,
      "outputs": [
        {
          "output_type": "stream",
          "name": "stdout",
          "text": [
            "Train ranks, eps = 0.0001: [4, 4, 4, 4]\n",
            "Train ranks, eps = 1e-09: [6, 7, 7, 6]\n"
          ]
        }
      ]
    },
    {
      "cell_type": "code",
      "source": [
        "tt_of_sum = tt_sum(tt1, tt2)\n",
        "print(f'Train ranks of sum, eps = {1e-5}: {[tt_of_sum[i].shape[-1] for i in range(len(tt_of_sum) - 1)]}')\n",
        "\n",
        "tt_new = squeeze(tt_of_sum, eps = 1e-9)\n",
        "print(f'Train ranks after compression: {[tt_new[i].shape[-1] for i in range(len(tt_new) - 1)]}')\n"
      ],
      "metadata": {
        "colab": {
          "base_uri": "https://localhost:8080/"
        },
        "id": "kavyMtVOtqiD",
        "outputId": "a4c46912-5560-47c6-9656-ad4b8c472f12"
      },
      "execution_count": 23,
      "outputs": [
        {
          "output_type": "stream",
          "name": "stdout",
          "text": [
            "Train ranks of sum, eps = 1e-05: [10, 11, 11, 10]\n",
            "Train ranks after compression: [6, 7, 7, 6]\n"
          ]
        }
      ]
    },
    {
      "cell_type": "code",
      "source": [],
      "metadata": {
        "id": "abc1nzG0uf8e"
      },
      "execution_count": null,
      "outputs": []
    }
  ]
}