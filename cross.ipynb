{
  "nbformat": 4,
  "nbformat_minor": 0,
  "metadata": {
    "colab": {
      "provenance": []
    },
    "kernelspec": {
      "name": "python3",
      "display_name": "Python 3"
    },
    "language_info": {
      "name": "python"
    }
  },
  "cells": [
    {
      "cell_type": "code",
      "execution_count": 205,
      "metadata": {
        "id": "MU3Hg6Fcxdgc"
      },
      "outputs": [],
      "source": [
        "import numpy as np"
      ]
    },
    {
      "cell_type": "code",
      "source": [
        "def cross(A, eps=0.01):\n",
        "    m, n = A.shape\n",
        "    I = np.arange(m)\n",
        "    J = np.arange(n)\n",
        "\n",
        "    i, j = np.unravel_index(np.argmax(np.abs(A)), A.shape)\n",
        "\n",
        "    U = A[i : i + 1, :].copy()\n",
        "    V = (A[:, j : j + 1] / A[i, j]).copy()\n",
        "    I[i] = -1\n",
        "    J[j] = -1\n",
        "    B = A - V @ U\n",
        "    B_abs = np.abs(B)\n",
        "\n",
        "    r = 0\n",
        "    while True:\n",
        "        r += 1\n",
        "        i = np.argmax(I > 0)\n",
        "        j = np.argmax(J > 0)\n",
        "        if I[i] == -1 or J[j] == -1:\n",
        "            return V, U\n",
        "\n",
        "        j = np.argmax(B_abs[i, :] * (J >= 0))\n",
        "        i = np.argmax(B_abs[:, j] * (I >= 0))\n",
        "\n",
        "        tmp = np.sqrt(B_abs[i, j] * (m - r) * (n - r))\n",
        "        norm = np.linalg.norm(V @ U)\n",
        "        if tmp <= eps * norm:\n",
        "            return V, U\n",
        "\n",
        "        U = np.concatenate((U, B[i : i + 1, :]))\n",
        "        V = np.concatenate((V, (B[:, j : j + 1] / B[i,j])), axis=1)\n",
        "        I[i] = -1\n",
        "        J[j] = -1\n",
        "        B = A - V @ U\n",
        "        B_abs = np.abs(B)"
      ],
      "metadata": {
        "id": "dq1g8opWyEzo"
      },
      "execution_count": 206,
      "outputs": []
    },
    {
      "cell_type": "code",
      "source": [
        "def f(i, j):\n",
        "    return np.sin(i + j)"
      ],
      "metadata": {
        "id": "mzA1lvPCHAja"
      },
      "execution_count": 207,
      "outputs": []
    },
    {
      "cell_type": "code",
      "source": [
        "shape = 100, 100\n",
        "A = np.fromfunction(f, shape)\n",
        "U, V = cross(A)\n",
        "err = np.linalg.norm(A - U @ V)\n",
        "print(f'Error: {err}')"
      ],
      "metadata": {
        "colab": {
          "base_uri": "https://localhost:8080/"
        },
        "id": "7FDlisJrHFlf",
        "outputId": "e604d25e-4e83-4469-9051-466b77eda9cb"
      },
      "execution_count": 208,
      "outputs": [
        {
          "output_type": "stream",
          "name": "stdout",
          "text": [
            "Error: 6.5708687411558765e-15\n"
          ]
        }
      ]
    },
    {
      "cell_type": "code",
      "source": [
        "U.shape, V.shape"
      ],
      "metadata": {
        "colab": {
          "base_uri": "https://localhost:8080/"
        },
        "id": "zguDaRzbyNcy",
        "outputId": "12199c95-2b2c-4e19-ab34-de927d912254"
      },
      "execution_count": 209,
      "outputs": [
        {
          "output_type": "execute_result",
          "data": {
            "text/plain": [
              "((100, 2), (2, 100))"
            ]
          },
          "metadata": {},
          "execution_count": 209
        }
      ]
    },
    {
      "cell_type": "code",
      "source": [],
      "metadata": {
        "id": "Rqe0d0GsHkYY"
      },
      "execution_count": null,
      "outputs": []
    }
  ]
}